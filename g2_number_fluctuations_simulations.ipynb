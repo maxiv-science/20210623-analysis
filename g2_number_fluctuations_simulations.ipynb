{
 "cells": [
  {
   "cell_type": "code",
   "execution_count": 2,
   "id": "378303f8-69bd-475c-b308-0175a53b194b",
   "metadata": {},
   "outputs": [],
   "source": [
    "import sys\n",
    "#!{sys.executable} -m pip install pandas\n",
    "#!{sys.executable} -m pip install scikit-beam\n",
    "#!{sys.executable} -m pip install numba\n",
    "\n",
    "import numpy as np\n",
    "import matplotlib.pyplot as plt\n",
    "from matplotlib.pyplot import cm\n",
    "from matplotlib.colors import LogNorm\n",
    "from scipy.optimize import curve_fit as fit\n",
    "import scipy.sparse as sci_sparse\n",
    "\n",
    "import os\n",
    "\n",
    "from dls_data_extraction import*\n",
    "\n",
    "#%matplotlib notebook"
   ]
  },
  {
   "cell_type": "code",
   "execution_count": 3,
   "id": "637a9677-a8bc-434c-b82e-cbe3de5ec0f8",
   "metadata": {},
   "outputs": [
    {
     "name": "stdout",
     "output_type": "stream",
     "text": [
      "[1.35750647e-04 2.25528200e+02 1.65853387e+00]\n"
     ]
    },
    {
     "data": {
      "image/png": "[encoded data removed]",
      "text/plain": [
       "<Figure size 432x288 with 1 Axes>"
      ]
     },
     "metadata": {
      "needs_background": "light"
     },
     "output_type": "display_data"
    }
   ],
   "source": [
    "ndata_w1 = np.loadtxt('./viscositydata_dehaoui.dat', delimiter=',') # mPas, water viscosity from dehaoui et al.\n",
    "ndata_w2 = np.loadtxt('./macroscopic_viscosity_water_hallet_kestin_collings.dat', delimiter=',') # mPas, macroscopic water viscosity \n",
    "ndata_w = np.vstack((ndata_w1,ndata_w2))\n",
    "\n",
    "popt_w,pcov_w = fit(power_law,ndata_w[:,0],ndata_w[:,1]*1e-3,p0=[1e-4, 220, 2]) # Pas\n",
    "print(popt_w)\n",
    "\n",
    "T_range = np.linspace(230,330,100) # K\n",
    "\n",
    "plt.figure()\n",
    "plt.plot(ndata_w[:,0],ndata_w[:,1],'o',c='b',alpha=0.5,ms=8,label='data')\n",
    "plt.plot(T_range[0:-1],power_law(T_range[0:-1],*popt_w)*1e3,c='b',ls='-',lw=2 ,label='power law fit')\n",
    "plt.xlabel(r'T (K)')\n",
    "plt.ylabel(r'$\\eta$ (mPas)')\n",
    "plt.title(r'Water viscosity')\n",
    "plt.legend(frameon=False)\n",
    "#plt.xlim([290,330])\n",
    "#plt.ylim([0,2])\n",
    "plt.yscale('log')\n",
    "\n",
    "#plt.savefig('water_viscosity.png') # save plot\n",
    "\n",
    "plt.show()"
   ]
  },
  {
   "cell_type": "markdown",
   "id": "c5895533-6288-4e99-ae2e-1ee4ef0eb9f0",
   "metadata": {},
   "source": [
    "## scattering volume"
   ]
  },
  {
   "cell_type": "code",
   "execution_count": 31,
   "id": "209c5c36-e392-4188-acc4-f8393bf3f5a0",
   "metadata": {},
   "outputs": [
    {
     "name": "stdout",
     "output_type": "stream",
     "text": [
      "beam width at edges (w1) [um]: 0.6880000720000102\n",
      "Vd [fL]: 61.960508473221076\n",
      "VR [fL]: 0.0005352268572067858\n",
      "Scattering volume [fL]: 123.92155217329935\n"
     ]
    }
   ],
   "source": [
    "d = 1e-3/2          # half beam path through sample, m\n",
    "w0 = 88e-9/2        # half beam waist, m\n",
    "divergence = 1.2e-3 # divergence, rad\n",
    "w1 = 0.5 * 2 * d * np.tan(divergence/2) + w0   # half-beam width at sample edges, m \n",
    "#w1 = d * divergence/2 # half-beam width at sample edges, m \n",
    "print('beam width at edges (w1) [um]:', 2*w1*1e6)\n",
    "\n",
    "photon_energy = 10.0e3 # eV\n",
    "h = 4.135667516e-15\n",
    "c = 2.99792458e8\n",
    "wavelength = h*c / photon_energy # m\n",
    "zR = w0    #np.pi * w0**2 / wavelength # Rayleigh length, m\n",
    "#print('Rayleigh length [um]:', zR*1e6)\n",
    "\n",
    "# large cone for the divergent beam away from the focal plane\n",
    "V1 = 1/3 * np.pi * w1**2 * d # m^3\n",
    "\n",
    "# small cone (the tip of the larger cone)\n",
    "V2 = 1/3 * np.pi * w0**2 * zR # m^3\n",
    "\n",
    "Vd = (V1-V2)\n",
    "#Vd = V1\n",
    "print('Vd [fL]:', Vd*1e3*1e15)\n",
    "\n",
    "# approximate volume close to beam waist (within Rayleigh length zR)\n",
    "VR = np.pi * w0**2 * zR # m^3 \n",
    "print('VR [fL]:', 2*VR*1e3*1e15)\n",
    "\n",
    "# total illuminated volume\n",
    "Vs = 2*(Vd + VR) # times 2 to account for both sides of the focal plane, m^3\n",
    "#Vs = 2*Vd # times 2 to account for both sides of the focal plane, m^3\n",
    "\n",
    "print('Scattering volume [fL]:', Vs*1e3*1e15) # [m^3] * [l/m^3] * [pl/l] = pl"
   ]
  },
  {
   "cell_type": "raw",
   "id": "48ae674c-5b5b-4552-8f58-f3226d71573e",
   "metadata": {},
   "source": [
    "# cylindrical scattering volume\n",
    "\n",
    "w0 = 88e-9/2        # half beam waist, m\n",
    "d = 1e-3          # half beam path through sample, m\n",
    "\n",
    "Vs = np.pi * w0**2 * d # m^3 \n",
    "print('V [fL]:', Vs*1e3*1e15)"
   ]
  },
  {
   "cell_type": "markdown",
   "id": "83d68d19-f69b-4833-93b6-0b7cb1d087ba",
   "metadata": {},
   "source": [
    "## average number of particles in the scattering volume "
   ]
  },
  {
   "cell_type": "code",
   "execution_count": 33,
   "id": "6c1213c2-010d-4b2b-bd9d-2c6acd3b8675",
   "metadata": {},
   "outputs": [
    {
     "name": "stdout",
     "output_type": "stream",
     "text": [
      "Scattering volume [fL] 123.92155217329935\n",
      "Particle volume [fL] 0.0004632466863277365\n",
      "Number of particles in the scattering volume (N): 428.0105812500174\n",
      "D = 3.5839349328068737e-12\n"
     ]
    }
   ],
   "source": [
    "#d = 100e-9\n",
    "#w1 = 2 * d * np.tan(divergence/2) + w0 # beam width at sample edges, m\n",
    "#R = w1/2 # m, beam radius\n",
    "#dz = 1e-3 # m, beam path\n",
    "#Vs = np.pi*R**2*dz  # scattering volume (slice)\n",
    "print('Scattering volume [fL]', Vs*1e3*1e15)\n",
    "\n",
    "Rp = 48e-9      # m, particle radius\n",
    "Rh = 63e-9      # m, effective hydrodynamic radius\n",
    "c = 0.48/100    # particle volume fraction in pure water \n",
    "c = 0.16/100   # particle volume fraction in dmso-water\n",
    "#c = 0.1/100   # particle volume fraction, lower limit\n",
    "\n",
    "Vp = 4*np.pi*Rp**3/3 # particle volume\n",
    "print('Particle volume [fL]', Vp*1e3*1e15)\n",
    "\n",
    "N = c*Vs/Vp        # number of particles in the scattering volume\n",
    "print('Number of particles in the scattering volume (N):', N)\n",
    "\n",
    "# diffusion coefficient for brownian motion\n",
    "T = 295 # K\n",
    "k = 1.38064852e-23\n",
    "D = k*T/(6*np.pi*Rh*power_law(T,*popt_w))  # SE diffusion coefficient\n",
    "print('D =', D)\n",
    "\n",
    "#S = 2*np.pi*R*d # surface area of the scattering volume\n",
    "#S/D             # average time spent in scattering volume, s\n",
    "\n",
    "# time required for particles to diffuse distance w\n",
    "#print('time at to travel distance w0 [s]:', w0**2/D)\n",
    "#print('time at to travel distance w1 [s]:', w1**2/D)"
   ]
  },
  {
   "cell_type": "markdown",
   "id": "79ebb86b-95af-4ca4-ae20-667b69b3d163",
   "metadata": {},
   "source": [
    "## g2 contributions"
   ]
  },
  {
   "cell_type": "code",
   "execution_count": 405,
   "id": "f8021c33-bf33-43d4-9ae4-12f617d9d573",
   "metadata": {},
   "outputs": [
    {
     "name": "stdout",
     "output_type": "stream",
     "text": [
      "beam waist 88.0\n",
      "D 3.4210287994974705e-12\n",
      "2pi/q (nm):  89.75979010256552\n",
      "theta [deg]: 0.07914202498006391\n",
      "a (um): 157.39816648150733\n",
      "Number fluctuations term:\n",
      "1st factor: 0.0004262389948519771\n",
      "2nd: 0.9992936751153461\n",
      "3rd: 0.9999999999723823\n",
      "tau_diff (us): 141.47790865458273\n",
      "fitted D: 3.4156225086012366e-12\n"
     ]
    },
    {
     "data": {
      "text/plain": [
       "(0.5, 5000.0)"
      ]
     },
     "execution_count": 405,
     "metadata": {},
     "output_type": "execute_result"
    },
    {
     "data": {
      "image/png": "[encoded data removed]",
      "text/plain": [
       "<Figure size 432x288 with 1 Axes>"
      ]
     },
     "metadata": {
      "needs_background": "light"
     },
     "output_type": "display_data"
    }
   ],
   "source": [
    "q = 0.07*1e9 # m^-1\n",
    "print('beam waist', w0*2*1e9)\n",
    "print('D', D)\n",
    "\n",
    "tau = 1/(D*q**2)\n",
    "print('2pi/q (nm): ', 2*np.pi/q*1e9)\n",
    "#print('dynamic length scale (nm):', np.sqrt(6*D*tau)*1e9)\n",
    "\n",
    "theta = 2*np.arcsin(q*wavelength/(4*np.pi))      # scattering angle, rad\n",
    "print('theta [deg]:', theta*180/np.pi)\n",
    "\n",
    "a = Vs/w0**2 * (np.pi/2)**(-3/2) * np.sin(theta) # radius of beam seen by the detector, m\n",
    "print('a (um):', a*1e6)\n",
    "#a = w0\n",
    "\n",
    "t = np.logspace(-7,-1, 300) # delay time, s\n",
    "\n",
    "##################################################\n",
    "\n",
    "# number fluctuation term\n",
    "gamma = 2**(-3/2)\n",
    "#gamma = 2**(-1)\n",
    "#N = 1\n",
    "\n",
    "#Nfluct_term = gamma/N * (1 + 4*D*t/w0**2)**(-1) * (1 + 4*D*t/a**2)**(-1/2)\n",
    "#Nfluct_term = 1/N * (1 + 4*D*t/w0**2)**(-1) * (1 + 4*D*t/a**2)**(-1/2) # gaussian-gaussian scattering volume FCS, a=gaussian width along beam path\n",
    "Nfluct_term = gamma/N * (1 + 4*D*t/w0**2)**(-1) # scattering volume bounded by walls in the z direction at the points z = 0, L\n",
    "print('Number fluctuations term:')\n",
    "print('1st factor:', gamma/N)\n",
    "print('2nd:', (1 + 4*D*t[0]/w0**2)**(-1))\n",
    "print('3rd:', (1 + 4*D*t[0]/a**2)**(-1/2))\n",
    "print('tau_diff (us):', w0**2/(4*D)*1e6)\n",
    "\n",
    "# Brownian term\n",
    "beta = 0.4\n",
    "brownian_term = beta*np.exp(-2*D*q**2*t)\n",
    "\n",
    "# total g2-1\n",
    "g2 = brownian_term + Nfluct_term\n",
    "\n",
    "# approximation of no fluctuation term\n",
    "tau = 1e-3\n",
    "alpha = 1\n",
    "beta2 = 0.35\n",
    "approx = beta2*(1+t/tau)**(-3/2) #np.exp(-(t/tau)**alpha)\n",
    "approx = beta2*np.exp(-(t/tau)**alpha)\n",
    "\n",
    "w = 88e-9/2\n",
    "approx = beta2*np.exp(-(2*D*t/w**2))\n",
    "\n",
    "def exponential(x, a , b):\n",
    "    return np.abs(a)*np.exp(-2*x/np.abs(b)) #+ baseline\n",
    "\n",
    "from scipy.optimize import curve_fit\n",
    "popt, pcov = curve_fit(exponential, t, g2, p0=[0.3, 100], bounds=((0,0),(np.inf,np.inf)))\n",
    "D1 = 1/(popt[1]*q**2)\n",
    "print('fitted D:', D1)\n",
    "\n",
    "\n",
    "##################################################\n",
    "\n",
    "# plot\n",
    "plt.figure()\n",
    "plt.plot(t*1e6, g2, 'k-', lw=2, label='total')\n",
    "plt.plot(t*1e6, brownian_term, 'b--', lw=2, label='Brownian motion')\n",
    "plt.plot(t*1e6, Nfluct_term, 'r--', lw=2, label='Number fluctuations')\n",
    "#plt.plot(t*1e6, approx, 'r--', alpha=0.5, lw=2, label='approx.')\n",
    "plt.plot(t*1e6, exponential(t, *popt), linestyle='-', lw=1.5, label='fit')\n",
    "\n",
    "plt.xlabel('$t ~(\\mu s)$', size=18)\n",
    "plt.ylabel(r'$g_2-c$', size=18)\n",
    "plt.xscale('log', nonpositive='clip')\n",
    "plt.legend(frameon=False, loc='upper right', fontsize=16, labelspacing=0.2, handletextpad=0.2, handlelength=1.0, borderpad=0.1)\n",
    "plt.tick_params(labelsize=18)\n",
    "plt.title(r'Q=%.3f $nm^{-1}$' %(q*1e-9), size=18)\n",
    "plt.xlim([5e-7*1e6,5e-3*1e6])\n",
    "#plt.ylim([-0.1,1.05])"
   ]
  },
  {
   "cell_type": "code",
   "execution_count": null,
   "id": "2964570d-02bf-4d91-8cf7-9797e82be8d2",
   "metadata": {},
   "outputs": [],
   "source": []
  },
  {
   "cell_type": "code",
   "execution_count": null,
   "id": "1f9a6e0a-dad4-41b1-bd97-113754cc6e4c",
   "metadata": {},
   "outputs": [],
   "source": []
  }
 ],
 "metadata": {
  "kernelspec": {
   "display_name": "Python 3 (ipykernel)",
   "language": "python",
   "name": "python3"
  },
  "language_info": {
   "codemirror_mode": {
    "name": "ipython",
    "version": 3
   },
   "file_extension": ".py",
   "mimetype": "text/x-python",
   "name": "python",
   "nbconvert_exporter": "python",
   "pygments_lexer": "ipython3",
   "version": "3.9.1"
  }
 },
 "nbformat": 4,
 "nbformat_minor": 5
}
